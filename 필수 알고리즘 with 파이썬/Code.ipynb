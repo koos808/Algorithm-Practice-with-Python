{
 "cells": [
  {
   "cell_type": "markdown",
   "metadata": {},
   "source": [
    "### 실전 001"
   ]
  },
  {
   "cell_type": "markdown",
   "metadata": {},
   "source": [
    "* 문제 : 반복문을 사용하여 0부터 n까지의 합 출력하기\n",
    "    * 조건 01 : 1이 아니라 0부터 100까지의 숫자를 순서대로 증가시켜야 한다.\n",
    "    * 조건 02 : 숫자를 순서대로 증가시키는 방법으로 반복문을 사용해야 한다.\n",
    "    * 조건 03 : 이 프로그램에서 사용하는 변수의 개수를 미리 알고 있어야 한다."
   ]
  },
  {
   "cell_type": "markdown",
   "metadata": {},
   "source": [
    "##### 교재 답안"
   ]
  },
  {
   "cell_type": "code",
   "execution_count": 1,
   "metadata": {},
   "outputs": [],
   "source": [
    "def print_to_n(n) :\n",
    "    i = 0\n",
    "    sum = 0\n",
    "    while (i<=n) :\n",
    "        sum = sum + i\n",
    "        i = i+1\n",
    "    print(sum)\n",
    "    "
   ]
  },
  {
   "cell_type": "code",
   "execution_count": 4,
   "metadata": {},
   "outputs": [
    {
     "name": "stdout",
     "output_type": "stream",
     "text": [
      "5050\n"
     ]
    }
   ],
   "source": [
    "print_to_n(100)"
   ]
  },
  {
   "cell_type": "markdown",
   "metadata": {},
   "source": [
    "My code _ Python"
   ]
  },
  {
   "cell_type": "markdown",
   "metadata": {},
   "source": [
    "1"
   ]
  },
  {
   "cell_type": "code",
   "execution_count": 21,
   "metadata": {
    "scrolled": true
   },
   "outputs": [
    {
     "data": {
      "text/plain": [
       "5050"
      ]
     },
     "execution_count": 21,
     "metadata": {},
     "output_type": "execute_result"
    }
   ],
   "source": [
    "a = range(0,101)\n",
    "sum(a)"
   ]
  },
  {
   "cell_type": "markdown",
   "metadata": {},
   "source": [
    "1-1"
   ]
  },
  {
   "cell_type": "code",
   "execution_count": 22,
   "metadata": {},
   "outputs": [
    {
     "data": {
      "text/plain": [
       "5050"
      ]
     },
     "execution_count": 22,
     "metadata": {},
     "output_type": "execute_result"
    }
   ],
   "source": [
    "import numpy as np\n",
    "np.sum(range(0,101))"
   ]
  },
  {
   "cell_type": "markdown",
   "metadata": {},
   "source": [
    "2"
   ]
  },
  {
   "cell_type": "code",
   "execution_count": 25,
   "metadata": {},
   "outputs": [
    {
     "name": "stdout",
     "output_type": "stream",
     "text": [
      "5050\n"
     ]
    }
   ],
   "source": [
    "sum = 0\n",
    "for i in range(1,101):\n",
    "    sum += i\n",
    "print(sum)"
   ]
  },
  {
   "cell_type": "markdown",
   "metadata": {},
   "source": [
    "3"
   ]
  },
  {
   "cell_type": "code",
   "execution_count": 29,
   "metadata": {},
   "outputs": [
    {
     "name": "stdout",
     "output_type": "stream",
     "text": [
      "5050\n"
     ]
    }
   ],
   "source": [
    "def sum_n(n):\n",
    "    sum=0\n",
    "    for i in range(1,n+1):\n",
    "        sum += i\n",
    "    print(sum)\n",
    "\n",
    "sum_n(100)\n"
   ]
  },
  {
   "cell_type": "markdown",
   "metadata": {},
   "source": [
    "4"
   ]
  },
  {
   "cell_type": "code",
   "execution_count": 42,
   "metadata": {},
   "outputs": [
    {
     "name": "stdout",
     "output_type": "stream",
     "text": [
      "5050\n"
     ]
    }
   ],
   "source": [
    "def sum_n(n):\n",
    "    sum=i=0\n",
    "    while(i<=n):\n",
    "        sum += i\n",
    "        i += 1\n",
    "    print(sum)\n",
    "sum_n(100)"
   ]
  },
  {
   "cell_type": "code",
   "execution_count": 41,
   "metadata": {},
   "outputs": [
    {
     "name": "stdout",
     "output_type": "stream",
     "text": [
      "5050\n"
     ]
    }
   ],
   "source": [
    "if __name__ ==\"__main__\":\n",
    "    sum_n(100)"
   ]
  },
  {
   "cell_type": "markdown",
   "metadata": {},
   "source": [
    "My code _ R <br/>\n",
    "  `sum(0:100)`"
   ]
  },
  {
   "cell_type": "markdown",
   "metadata": {},
   "source": [
    "### 실전 002 [재귀 호출 _ recursive call]"
   ]
  },
  {
   "cell_type": "markdown",
   "metadata": {},
   "source": [
    "* 문제 : 재귀 호출을 사용하여 1부터 20까지 출력하기 [0 부터 n까지의 숫자만 출력 ] \n",
    "    * 조건 01 : 1부터 출력해야 한다.\n",
    "    * 조건 02 : 재귀 호출을 빠져 나오는 제어 조건을 명확하게 정의해야 한다.\n",
    "    * 조건 03 : 재귀 함수의 호출과 재귀 함수 내의 처리 문장의 실행 순서를 명확하게 정의해야 한다."
   ]
  },
  {
   "cell_type": "code",
   "execution_count": 46,
   "metadata": {},
   "outputs": [],
   "source": [
    "def print_to_n(n):\n",
    "    if n>0:\n",
    "        print_to_n(n-1)\n",
    "    print(n)"
   ]
  },
  {
   "cell_type": "code",
   "execution_count": 49,
   "metadata": {},
   "outputs": [
    {
     "name": "stdout",
     "output_type": "stream",
     "text": [
      "0\n",
      "1\n",
      "2\n",
      "3\n",
      "4\n",
      "5\n",
      "6\n",
      "7\n",
      "8\n",
      "9\n",
      "10\n",
      "11\n",
      "12\n",
      "13\n",
      "14\n",
      "15\n",
      "16\n",
      "17\n",
      "18\n",
      "19\n",
      "20\n"
     ]
    }
   ],
   "source": [
    "if __name__ ==\"__main__\":\n",
    "    print_to_n(20)"
   ]
  },
  {
   "cell_type": "markdown",
   "metadata": {},
   "source": [
    "### 실전 003 "
   ]
  },
  {
   "cell_type": "markdown",
   "metadata": {},
   "source": [
    "* 문제 : 반복문을 사용하여 1부터 n까지 출력하기\n",
    "    * 조건 01 : 1부터 순서대로 화면에 출력해야 한다.\n",
    "    * 조건 02 : 출력하는 숫자가 n이 되면 프로그램을 종료한다."
   ]
  },
  {
   "cell_type": "code",
   "execution_count": 54,
   "metadata": {},
   "outputs": [],
   "source": [
    "def print_num(n):\n",
    "    for i in range(1,n+1):\n",
    "        print(i)"
   ]
  },
  {
   "cell_type": "code",
   "execution_count": 55,
   "metadata": {},
   "outputs": [
    {
     "name": "stdout",
     "output_type": "stream",
     "text": [
      "1\n",
      "2\n",
      "3\n",
      "4\n",
      "5\n",
      "6\n",
      "7\n",
      "8\n",
      "9\n",
      "10\n"
     ]
    }
   ],
   "source": [
    "print_num(10)"
   ]
  },
  {
   "cell_type": "code",
   "execution_count": 59,
   "metadata": {},
   "outputs": [
    {
     "name": "stdout",
     "output_type": "stream",
     "text": [
      "1\n",
      "2\n",
      "3\n",
      "4\n",
      "5\n",
      "6\n",
      "7\n",
      "8\n",
      "9\n",
      "10\n",
      "11\n",
      "12\n",
      "13\n",
      "14\n",
      "15\n",
      "16\n",
      "17\n",
      "18\n",
      "19\n",
      "20\n"
     ]
    }
   ],
   "source": [
    "n=20\n",
    "c=1\n",
    "while(c<=n):\n",
    "    print(c)\n",
    "    c=c+1"
   ]
  },
  {
   "cell_type": "markdown",
   "metadata": {},
   "source": [
    "list 에서의 for문 사용"
   ]
  },
  {
   "cell_type": "code",
   "execution_count": 60,
   "metadata": {},
   "outputs": [
    {
     "name": "stdout",
     "output_type": "stream",
     "text": [
      "1\n",
      "2\n",
      "3\n"
     ]
    }
   ],
   "source": [
    "for x in [1,2,3]:\n",
    "    print(x)"
   ]
  },
  {
   "cell_type": "markdown",
   "metadata": {},
   "source": [
    "튜플에서의 for문 사용"
   ]
  },
  {
   "cell_type": "code",
   "execution_count": 61,
   "metadata": {},
   "outputs": [
    {
     "name": "stdout",
     "output_type": "stream",
     "text": [
      "1\n",
      "2\n",
      "3\n"
     ]
    }
   ],
   "source": [
    "for x in (1,2,3):\n",
    "    print(x)"
   ]
  },
  {
   "cell_type": "markdown",
   "metadata": {},
   "source": [
    "딕셔너리에서의 for문 사용"
   ]
  },
  {
   "cell_type": "code",
   "execution_count": 62,
   "metadata": {},
   "outputs": [
    {
     "name": "stdout",
     "output_type": "stream",
     "text": [
      "key1\n",
      "1\n",
      "key2\n",
      "2\n",
      "key3\n",
      "3\n"
     ]
    }
   ],
   "source": [
    "dic = {'key1':1,'key2':2,'key3':3}\n",
    "for x in dic:\n",
    "    print(x)\n",
    "    print(dic[x])"
   ]
  },
  {
   "cell_type": "markdown",
   "metadata": {},
   "source": [
    "문자열에서의 for문 사용"
   ]
  },
  {
   "cell_type": "code",
   "execution_count": 63,
   "metadata": {},
   "outputs": [
    {
     "name": "stdout",
     "output_type": "stream",
     "text": [
      "a\n",
      "b\n",
      "c\n",
      "d\n",
      "e\n",
      "f\n",
      "g\n"
     ]
    }
   ],
   "source": [
    "for x in 'abcdefg':\n",
    "    print(x)"
   ]
  },
  {
   "cell_type": "markdown",
   "metadata": {},
   "source": [
    "### 실전 004"
   ]
  },
  {
   "cell_type": "markdown",
   "metadata": {},
   "source": [
    "* 문제 : 재귀 호출을 사용하여 n부터 1까지 출력하기\n",
    "    * 조건 01 : n부터 1까지 역순으로 화면에 출력해야 한다.\n",
    "    * 조건 02 : 출력하는 숫자가 1이 되면 프로그램을 종료한다."
   ]
  },
  {
   "cell_type": "code",
   "execution_count": 5,
   "metadata": {},
   "outputs": [
    {
     "name": "stdout",
     "output_type": "stream",
     "text": [
      "10 9 8 7 6 5 4 3 2 1 "
     ]
    }
   ],
   "source": [
    "def print_to_n(n):\n",
    "    print(n,end=' ')\n",
    "    if n>1:\n",
    "        print_to_n(n-1)\n",
    "        \n",
    "if __name__ == \"__main__\":\n",
    "    print_to_n(10)"
   ]
  },
  {
   "cell_type": "markdown",
   "metadata": {},
   "source": [
    "### 실전 005"
   ]
  },
  {
   "cell_type": "markdown",
   "metadata": {},
   "source": [
    "* 문제 : 3과 5의 배수 계산하기\n",
    "    * 조건 01 : 배수의 개념들을 코드로 만들 수 있어야 한다.\n",
    "    * 조건 02 : 3의 배수이면서 동시에 5의 배수인지를 확인하는 개념을 코드로 만들 수 있어야 한다.\n",
    "    * 조건 03 : 반복문을 사용하여 1부터 n까지 1씩 증가하면서 제어 변수를 확인한다."
   ]
  },
  {
   "cell_type": "markdown",
   "metadata": {},
   "source": [
    "n이 3과 5의 배수인지 확인하는 코드"
   ]
  },
  {
   "cell_type": "code",
   "execution_count": 1,
   "metadata": {},
   "outputs": [],
   "source": [
    "def multiple(n):\n",
    "    if n % 3 == 0 & n % 5 == 0:\n",
    "        print(\"3과 5의 배수입니다.\")\n",
    "    else:\n",
    "        print(\"3과 5의 배수가 아닙니다.\")"
   ]
  },
  {
   "cell_type": "code",
   "execution_count": 4,
   "metadata": {
    "scrolled": true
   },
   "outputs": [
    {
     "name": "stdout",
     "output_type": "stream",
     "text": [
      "3과 5의 배수입니다.\n"
     ]
    }
   ],
   "source": [
    "multiple(3)"
   ]
  },
  {
   "cell_type": "markdown",
   "metadata": {},
   "source": [
    "n을 넣으면 n까지 증가하면서 3과 5의 배수인 숫자를 출력"
   ]
  },
  {
   "cell_type": "code",
   "execution_count": 10,
   "metadata": {},
   "outputs": [],
   "source": [
    "def check_common(n):\n",
    "    i = 1\n",
    "    while i <= n:\n",
    "        if (i % 3 == 0) and (i % 5 == 0):\n",
    "            print(\"%d\"%(i)) # print(i)라고 써도 무방\n",
    "        i = i + 1"
   ]
  },
  {
   "cell_type": "code",
   "execution_count": 11,
   "metadata": {},
   "outputs": [
    {
     "name": "stdout",
     "output_type": "stream",
     "text": [
      "15\n",
      "30\n",
      "45\n",
      "60\n",
      "75\n",
      "90\n"
     ]
    }
   ],
   "source": [
    "if __name__== \"__main__\":\n",
    "    check_common(100) "
   ]
  },
  {
   "cell_type": "markdown",
   "metadata": {},
   "source": [
    "### 실전 006"
   ]
  },
  {
   "cell_type": "markdown",
   "metadata": {},
   "source": [
    "* 문제 : 숫자 뒤집기[ 사용자로부터 입력 받은 데이터를 역순으로 바꾸어 화면에 출력하는 프로그램을 작성 ]\n",
    "    * 조건 01 : ex) 123 => 321로 출력\n",
    "    * 조건 02 : 정수의 자릿수를 계산하는 방식을 고민해야 한다.\n",
    "    * 조건 03 : 반복문보다는 재귀 호출을 응용하는 것이 간단하다."
   ]
  },
  {
   "cell_type": "code",
   "execution_count": 17,
   "metadata": {},
   "outputs": [
    {
     "name": "stdout",
     "output_type": "stream",
     "text": [
      "Test Word!, Hello World. .dlroW olleH ,!droW tseT\n"
     ]
    }
   ],
   "source": [
    "print(myWord, myWord[::-1])"
   ]
  },
  {
   "cell_type": "code",
   "execution_count": 25,
   "metadata": {},
   "outputs": [
    {
     "data": {
      "text/plain": [
       "'.dlroW olleH ,!droW tseT'"
      ]
     },
     "execution_count": 25,
     "metadata": {},
     "output_type": "execute_result"
    }
   ],
   "source": [
    "myWord[::-1]"
   ]
  },
  {
   "cell_type": "code",
   "execution_count": 27,
   "metadata": {},
   "outputs": [
    {
     "name": "stdout",
     "output_type": "stream",
     "text": [
      "1234567890 987654321\n"
     ]
    }
   ],
   "source": [
    "myNum = 1234567890;\n",
    "print(myNum, int(str(myNum)[::-1]))"
   ]
  },
  {
   "cell_type": "markdown",
   "metadata": {},
   "source": [
    "* 올림,내림 (math module 사용), 반올림(내장 함수 round 사용)\n",
    "    * 올림(ceil), 내림(floor), 반올림(round)"
   ]
  },
  {
   "cell_type": "code",
   "execution_count": 41,
   "metadata": {},
   "outputs": [],
   "source": [
    "import math"
   ]
  },
  {
   "cell_type": "code",
   "execution_count": 42,
   "metadata": {},
   "outputs": [
    {
     "data": {
      "text/plain": [
       "4"
      ]
     },
     "execution_count": 42,
     "metadata": {},
     "output_type": "execute_result"
    }
   ],
   "source": [
    "math.ceil(3.14)"
   ]
  },
  {
   "cell_type": "code",
   "execution_count": 43,
   "metadata": {},
   "outputs": [
    {
     "data": {
      "text/plain": [
       "-3"
      ]
     },
     "execution_count": 43,
     "metadata": {},
     "output_type": "execute_result"
    }
   ],
   "source": [
    "math.ceil(-3.14)"
   ]
  },
  {
   "cell_type": "code",
   "execution_count": 44,
   "metadata": {},
   "outputs": [
    {
     "data": {
      "text/plain": [
       "3"
      ]
     },
     "execution_count": 44,
     "metadata": {},
     "output_type": "execute_result"
    }
   ],
   "source": [
    "math.floor(3.14)"
   ]
  },
  {
   "cell_type": "code",
   "execution_count": 46,
   "metadata": {},
   "outputs": [
    {
     "data": {
      "text/plain": [
       "3"
      ]
     },
     "execution_count": 46,
     "metadata": {},
     "output_type": "execute_result"
    }
   ],
   "source": [
    "round(3.14)"
   ]
  },
  {
   "cell_type": "markdown",
   "metadata": {},
   "source": [
    "* 사사오입 원칙\n",
    "    * round()는 사사오입 원칙을 따른다.\n",
    "    * 반올림할 자리의 수가 5이면 반올림 할 때 앞자리의 숫자가 짝수면 내림하고 홀수면 올림 한다.\n",
    "\n",
    "     * `  round(4.5)  #결과는 4\n",
    "     round(3.5)  #결과는 4 `\n",
    "     * 앞의 자리가 4인 경우 짝수니까 내림이 되었고 앞의 자리가 3인 경우 홀수니까 올림이 적용되었다."
   ]
  },
  {
   "cell_type": "markdown",
   "metadata": {},
   "source": [
    "정수의 자릿수 계산 코드"
   ]
  },
  {
   "cell_type": "code",
   "execution_count": 56,
   "metadata": {},
   "outputs": [],
   "source": [
    "position_1 = 123 % 10 # 1의 자릿수, %은 나머지 계산\n",
    "position_2 = (123/10) % 10 # 10의 자릿수\n",
    "position_3 = (123/100) % 10 # 100의 자릿수"
   ]
  },
  {
   "cell_type": "code",
   "execution_count": 57,
   "metadata": {},
   "outputs": [
    {
     "data": {
      "text/plain": [
       "2"
      ]
     },
     "execution_count": 57,
     "metadata": {},
     "output_type": "execute_result"
    }
   ],
   "source": [
    "round(position_2)"
   ]
  },
  {
   "cell_type": "code",
   "execution_count": 34,
   "metadata": {},
   "outputs": [
    {
     "name": "stdout",
     "output_type": "stream",
     "text": [
      "3 2.3000000000000007 1.23\n"
     ]
    }
   ],
   "source": [
    "print(position_1,position_2,position_3)"
   ]
  },
  {
   "cell_type": "markdown",
   "metadata": {},
   "source": [
    "* 재귀호출 사용"
   ]
  },
  {
   "cell_type": "code",
   "execution_count": 71,
   "metadata": {},
   "outputs": [],
   "source": [
    "def solve(n):\n",
    "    if n == 0:\n",
    "        return 0\n",
    "    print(n%10, end= ' ') # [ 마지막 숫자 출력 ]\n",
    "    solve(n//10) # n을 10으로 나눈 몫 [마지막 숫자 없어짐]"
   ]
  },
  {
   "cell_type": "code",
   "execution_count": 72,
   "metadata": {},
   "outputs": [
    {
     "name": "stdout",
     "output_type": "stream",
     "text": [
      "입력: 2345\n",
      "5 4 3 2 "
     ]
    }
   ],
   "source": [
    "if __name__== \"__main__\":\n",
    "    num_str=input(\"입력: \")\n",
    "    num = int(num_str)\n",
    "    solve(num)"
   ]
  },
  {
   "cell_type": "markdown",
   "metadata": {},
   "source": [
    "#### range(start, end, step)\n",
    "* end 포함안됨"
   ]
  },
  {
   "cell_type": "code",
   "execution_count": 73,
   "metadata": {},
   "outputs": [
    {
     "name": "stdout",
     "output_type": "stream",
     "text": [
      "[0, 1, 2, 3, 4]\n"
     ]
    }
   ],
   "source": [
    "print(list(range(5)))"
   ]
  },
  {
   "cell_type": "code",
   "execution_count": 74,
   "metadata": {},
   "outputs": [
    {
     "name": "stdout",
     "output_type": "stream",
     "text": [
      "[0, 1, 2, 3, 4]\n"
     ]
    }
   ],
   "source": [
    "print(list(range(0,5)))"
   ]
  },
  {
   "cell_type": "code",
   "execution_count": 75,
   "metadata": {},
   "outputs": [
    {
     "name": "stdout",
     "output_type": "stream",
     "text": [
      "[0, 2, 4]\n"
     ]
    }
   ],
   "source": [
    "print(list(range(0,5,2)))"
   ]
  },
  {
   "cell_type": "markdown",
   "metadata": {},
   "source": [
    "### 실전 007"
   ]
  },
  {
   "cell_type": "markdown",
   "metadata": {},
   "source": [
    "* 문제 : 369 게임 만들기\n",
    "    * 조건 01 : 3의 배수를 확인하는 코드를 작성해야 함.\n",
    "    * 조건 02 : 3의 배수가 아닌 경우는 숫자를 출력하고, 3의 배수인 경우는 \"X\"를 출력하는 코드를 작성해야 한다.\n",
    "    * 조건 03 : 사용자로부터 입력 받은 n까지 위의 과정을 반복해야 한다."
   ]
  },
  {
   "cell_type": "code",
   "execution_count": 86,
   "metadata": {},
   "outputs": [],
   "source": [
    "def game_369(n):\n",
    "    i=1\n",
    "    while i<=n :\n",
    "        if i % 3 == 0:\n",
    "            print(\"X\",end=' ')\n",
    "        else:\n",
    "            print(i, end=' ')\n",
    "        i += 1\n",
    "        "
   ]
  },
  {
   "cell_type": "code",
   "execution_count": 87,
   "metadata": {},
   "outputs": [
    {
     "name": "stdout",
     "output_type": "stream",
     "text": [
      "1 2 X 4 5 X 7 8 X 10 "
     ]
    }
   ],
   "source": [
    "game_369(10)"
   ]
  },
  {
   "cell_type": "markdown",
   "metadata": {},
   "source": [
    "### 실전 007 - 응용"
   ]
  },
  {
   "cell_type": "markdown",
   "metadata": {},
   "source": [
    "* 문제 : 369 게임 응용하여 만들기\n",
    "    * 조건 01 : 위의 369 게임에서 3이 포함된 경우도 박수치는 코드를 작성.\n",
    "    * 절차 : 3이 포함되어 있는 숫자를 찾아내는 코드 작성"
   ]
  },
  {
   "cell_type": "markdown",
   "metadata": {},
   "source": [
    "* 방법 1\n",
    "    * 숫자를 문자로 바꾸어 문자중에 \"3\"이 포함되어 있는지 확인"
   ]
  },
  {
   "cell_type": "code",
   "execution_count": 122,
   "metadata": {},
   "outputs": [
    {
     "name": "stdout",
     "output_type": "stream",
     "text": [
      "있다\n"
     ]
    }
   ],
   "source": [
    "aa=230\n",
    "if any(\"3\" in s for s in str(aa)):\n",
    "    print(\"있다\")\n",
    "else:\n",
    "    print(\"없다\")"
   ]
  },
  {
   "cell_type": "code",
   "execution_count": 115,
   "metadata": {},
   "outputs": [
    {
     "name": "stdout",
     "output_type": "stream",
     "text": [
      "1 2 X 4 5 6 7 8 9 10 "
     ]
    }
   ],
   "source": [
    "i=1\n",
    "n=10\n",
    "while i<=n:\n",
    "    if any(\"3\" in s for s in str(i)):\n",
    "        print(\"X\",end=' ')\n",
    "    else:\n",
    "        print(i,end=' ')\n",
    "    i += 1\n",
    "    "
   ]
  },
  {
   "cell_type": "markdown",
   "metadata": {},
   "source": [
    "함수화"
   ]
  },
  {
   "cell_type": "code",
   "execution_count": 123,
   "metadata": {},
   "outputs": [],
   "source": [
    "def game_333_1(n):\n",
    "    i=1\n",
    "    while i<=n:\n",
    "        if any(\"3\" in s for s in str(i)) or (i % 3==0):\n",
    "            print(\"X\",end=' ')\n",
    "        else:\n",
    "            print(i, end=' ')\n",
    "        i += 1"
   ]
  },
  {
   "cell_type": "code",
   "execution_count": 125,
   "metadata": {
    "scrolled": true
   },
   "outputs": [
    {
     "name": "stdout",
     "output_type": "stream",
     "text": [
      "1 2 X 4 5 X 7 8 X 10 11 X X 14 X 16 17 X 19 20 X 22 X X 25 26 X 28 29 X X X X X X X X X X 40 "
     ]
    }
   ],
   "source": [
    "game_333_1(40)"
   ]
  },
  {
   "cell_type": "markdown",
   "metadata": {},
   "source": [
    "#### 참고한 코드 : 문자열 리스트에서 해당하는 문자 있는지 찾기"
   ]
  },
  {
   "cell_type": "code",
   "execution_count": 126,
   "metadata": {},
   "outputs": [
    {
     "name": "stdout",
     "output_type": "stream",
     "text": [
      "있다\n",
      "있다\n"
     ]
    }
   ],
   "source": [
    "some_list = ['abc-123', 'def-456', 'ghi-789', 'abc-456']\n",
    "\n",
    "#길게 쓰면\n",
    "for s in some_list:\n",
    "    if \"abc\" in s:\n",
    "        print(\"있다\")\n",
    "        break; #하나만 찾으면 뒤는 안 찾음\n",
    "\n",
    "\n",
    "#짧게 쓰면\n",
    "if any(\"abc\" in s for s in some_list):\n",
    "    print(\"있다\")\n"
   ]
  },
  {
   "cell_type": "markdown",
   "metadata": {},
   "source": [
    "### 실전 008"
   ]
  },
  {
   "cell_type": "markdown",
   "metadata": {},
   "source": [
    "* 문제 : 자연수 n이 소수인지 아닌지를 출력하기\n",
    "    * 조건 01 : 반복문을 사용하여 주어진 숫자 n을 2부터 n-1까지 반복하면서 나누고, <br /> 나눈 결과가 하나라도 나눈 몫을 구할 수 있으면 소수가 아닌 합성수이다.\n",
    "    * 조건 02 : 위의 반복문이 끝난 결과로 제어 변수가 주어진 n과 같으면 소수이고 같지 않으면 합성수이다."
   ]
  },
  {
   "cell_type": "markdown",
   "metadata": {},
   "source": [
    "* 방법1 : 재귀 이용\n",
    "* 방법2 : for문 이용"
   ]
  },
  {
   "cell_type": "markdown",
   "metadata": {},
   "source": [
    "방법1(재귀 이용) : 코드 작성하지 못함."
   ]
  },
  {
   "cell_type": "markdown",
   "metadata": {},
   "source": [
    "방법2(for문 이용)"
   ]
  },
  {
   "cell_type": "markdown",
   "metadata": {},
   "source": [
    "* 풀고나서 교재 확인하니, 방법2(내방법)에서 range를 2부터 시작하면 0이 나올 때 break하면 됨. \n",
    "* 또한 1부터 차례대로 나누어가다가 나누어지는 값이 있으면 거기까지만 계산한다(break). 불필요한 계산 x"
   ]
  },
  {
   "cell_type": "code",
   "execution_count": 87,
   "metadata": {},
   "outputs": [],
   "source": [
    "def natural_n(n):\n",
    "    t=[]\n",
    "    for i in range(1,n+1):\n",
    "        s = n % i\n",
    "        t.append(s)\n",
    "    print(t)\n",
    "    if(t.count(0)==2):\n",
    "        print(\"소수입니다.\")\n",
    "    else:\n",
    "        print(\"소수가 아닙니다.\")"
   ]
  },
  {
   "cell_type": "code",
   "execution_count": 90,
   "metadata": {},
   "outputs": [
    {
     "name": "stdout",
     "output_type": "stream",
     "text": [
      "[0, 1, 1, 3, 2, 1, 0]\n",
      "소수입니다.\n"
     ]
    }
   ],
   "source": [
    "natural_n(7)"
   ]
  },
  {
   "cell_type": "markdown",
   "metadata": {},
   "source": [
    "동적 코드"
   ]
  },
  {
   "cell_type": "code",
   "execution_count": 89,
   "metadata": {},
   "outputs": [
    {
     "name": "stdout",
     "output_type": "stream",
     "text": [
      "입력: 8\n",
      "[0, 0, 2, 0, 3, 2, 1, 0]\n",
      "소수가 아닙니다.\n"
     ]
    }
   ],
   "source": [
    "if __name__== \"__main__\":\n",
    "    num_str=input(\"입력: \")\n",
    "    num = int(num_str)\n",
    "    natural_n(num)"
   ]
  },
  {
   "cell_type": "markdown",
   "metadata": {},
   "source": [
    "수정한 My CODE"
   ]
  },
  {
   "cell_type": "markdown",
   "metadata": {},
   "source": [
    "2부터 자기자신 전까지 나누어지는 값이 있으면 break"
   ]
  },
  {
   "cell_type": "code",
   "execution_count": 135,
   "metadata": {},
   "outputs": [],
   "source": [
    "def natural_n(n):\n",
    "    t=[]\n",
    "    for i in range(2,n):\n",
    "        s = n % i\n",
    "        if( s == 0 ):\n",
    "            break\n",
    "        else:\n",
    "            print(\"소수입니다.\")"
   ]
  },
  {
   "cell_type": "code",
   "execution_count": 149,
   "metadata": {},
   "outputs": [
    {
     "name": "stdout",
     "output_type": "stream",
     "text": [
      "소수입니다.\n"
     ]
    }
   ],
   "source": [
    "natural_n(10)"
   ]
  },
  {
   "cell_type": "markdown",
   "metadata": {},
   "source": [
    "방법3(교재 Code)"
   ]
  },
  {
   "cell_type": "code",
   "execution_count": 196,
   "metadata": {},
   "outputs": [],
   "source": [
    "def check_prime(n):\n",
    "    i = 2\n",
    "    while i<n:\n",
    "        if n%i == 0:\n",
    "            break\n",
    "        i = i+1\n",
    "    if i == n:\n",
    "        print(\"{0}는 소수\\n\".format(n))\n",
    "    else:\n",
    "        print(\"{0}는 합성수\\n\".format(n))"
   ]
  },
  {
   "cell_type": "code",
   "execution_count": 156,
   "metadata": {},
   "outputs": [
    {
     "name": "stdout",
     "output_type": "stream",
     "text": [
      "19는 소수\n",
      "\n"
     ]
    }
   ],
   "source": [
    "check_prime(19)"
   ]
  },
  {
   "cell_type": "markdown",
   "metadata": {},
   "source": [
    "### 실전 009"
   ]
  },
  {
   "cell_type": "markdown",
   "metadata": {},
   "source": [
    "* 문제 : 2 ~ N 사이의 모든 소수를 추출하기\n",
    "    * 조건 01 :\n",
    "    * 조건 02 : 위의 반복문이 끝난 결과로 제어 변수가 주어진 n과 같으면 소수이고 같지 않으면 합성수이다."
   ]
  },
  {
   "cell_type": "markdown",
   "metadata": {},
   "source": [
    "My Code"
   ]
  },
  {
   "cell_type": "code",
   "execution_count": 1,
   "metadata": {},
   "outputs": [],
   "source": [
    "def check_prime(n):\n",
    "    i = 2\n",
    "    while i<n:\n",
    "        if n%i == 0:\n",
    "            break\n",
    "        i = i+1\n",
    "    if i == n:\n",
    "        return \"소수\"\n",
    "    else:\n",
    "        return \"합성수\"\n",
    "check_prime(10)\n",
    "check_prime(2)\n",
    "\n",
    "def check_prime2(n):\n",
    "    t=[]\n",
    "    for i in range(2,n):\n",
    "        a = check_prime(i)\n",
    "        if check_prime(i)==\"소수\":\n",
    "            t.append(i)\n",
    "    print(t)\n",
    "        "
   ]
  },
  {
   "cell_type": "code",
   "execution_count": 2,
   "metadata": {},
   "outputs": [
    {
     "name": "stdout",
     "output_type": "stream",
     "text": [
      "[2, 3, 5, 7, 11, 13, 17, 19]\n"
     ]
    }
   ],
   "source": [
    "check_prime2(20)"
   ]
  },
  {
   "cell_type": "markdown",
   "metadata": {},
   "source": [
    "교재 Code"
   ]
  },
  {
   "cell_type": "code",
   "execution_count": 4,
   "metadata": {
    "collapsed": true
   },
   "outputs": [
    {
     "name": "stdout",
     "output_type": "stream",
     "text": [
      "2는 소수\n",
      "3는 소수\n",
      "4는 합성수\n",
      "5는 소수\n",
      "6는 합성수\n",
      "7는 소수\n",
      "8는 합성수\n",
      "9는 합성수\n",
      "10는 합성수\n",
      "11는 소수\n",
      "12는 합성수\n",
      "13는 소수\n",
      "14는 합성수\n",
      "15는 합성수\n",
      "16는 합성수\n",
      "17는 소수\n",
      "18는 합성수\n",
      "19는 소수\n",
      "20는 합성수\n"
     ]
    }
   ],
   "source": [
    "def check_prime(n):\n",
    "    i = 2\n",
    "    while i < n :\n",
    "        if n % i ==0:\n",
    "            break\n",
    "        i += 1\n",
    "    if i == n:\n",
    "        print(\"{0}는 소수\".format(n))\n",
    "    else:\n",
    "        print(\"{0}는 합성수\".format(n))\n",
    "\n",
    "if __name__==\"__main__\":\n",
    "    i = 2\n",
    "    while i <= 20:\n",
    "        check_prime(i)\n",
    "        i +=1\n",
    "    "
   ]
  },
  {
   "cell_type": "code",
   "execution_count": null,
   "metadata": {},
   "outputs": [],
   "source": []
  },
  {
   "cell_type": "code",
   "execution_count": null,
   "metadata": {},
   "outputs": [],
   "source": []
  },
  {
   "cell_type": "code",
   "execution_count": null,
   "metadata": {},
   "outputs": [],
   "source": []
  }
 ],
 "metadata": {
  "kernelspec": {
   "display_name": "Python 3",
   "language": "python",
   "name": "python3"
  },
  "language_info": {
   "codemirror_mode": {
    "name": "ipython",
    "version": 3
   },
   "file_extension": ".py",
   "mimetype": "text/x-python",
   "name": "python",
   "nbconvert_exporter": "python",
   "pygments_lexer": "ipython3",
   "version": "3.7.0"
  }
 },
 "nbformat": 4,
 "nbformat_minor": 2
}
